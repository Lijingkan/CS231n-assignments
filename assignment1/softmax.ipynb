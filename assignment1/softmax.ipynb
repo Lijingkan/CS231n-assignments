{
 "cells": [
  {
   "cell_type": "markdown",
   "metadata": {
    "tags": [
     "pdf-title"
    ]
   },
   "source": [
    "# Softmax exercise\n",
    "\n",
    "*Complete and hand in this completed worksheet (including its outputs and any supporting code outside of the worksheet) with your assignment submission. For more details see the [assignments page](http://vision.stanford.edu/teaching/cs231n/assignments.html) on the course website.*\n",
    "\n",
    "This exercise is analogous to the SVM exercise. You will:\n",
    "\n",
    "- implement a fully-vectorized **loss function** for the Softmax classifier\n",
    "- implement the fully-vectorized expression for its **analytic gradient**\n",
    "- **check your implementation** with numerical gradient\n",
    "- use a validation set to **tune the learning rate and regularization** strength\n",
    "- **optimize** the loss function with **SGD**\n",
    "- **visualize** the final learned weights\n"
   ]
  },
  {
   "cell_type": "code",
   "execution_count": 1,
   "metadata": {
    "collapsed": true,
    "tags": [
     "pdf-ignore"
    ]
   },
   "outputs": [],
   "source": [
    "import random\n",
    "import numpy as np\n",
    "from cs231n.data_utils import load_CIFAR10\n",
    "import matplotlib.pyplot as plt\n",
    "\n",
    "%matplotlib inline\n",
    "plt.rcParams['figure.figsize'] = (10.0, 8.0) # set default size of plots\n",
    "plt.rcParams['image.interpolation'] = 'nearest'\n",
    "plt.rcParams['image.cmap'] = 'gray'\n",
    "\n",
    "# for auto-reloading extenrnal modules\n",
    "# see http://stackoverflow.com/questions/1907993/autoreload-of-modules-in-ipython\n",
    "%load_ext autoreload\n",
    "%autoreload 2"
   ]
  },
  {
   "cell_type": "code",
   "execution_count": 2,
   "metadata": {
    "tags": [
     "pdf-ignore"
    ]
   },
   "outputs": [
    {
     "name": "stdout",
     "output_type": "stream",
     "text": [
      "Train data shape:  (49000, 3073)\n",
      "Train labels shape:  (49000,)\n",
      "Validation data shape:  (1000, 3073)\n",
      "Validation labels shape:  (1000,)\n",
      "Test data shape:  (1000, 3073)\n",
      "Test labels shape:  (1000,)\n",
      "dev data shape:  (500, 3073)\n",
      "dev labels shape:  (500,)\n"
     ]
    }
   ],
   "source": [
    "def get_CIFAR10_data(num_training=49000, num_validation=1000, num_test=1000, num_dev=500):\n",
    "    \"\"\"\n",
    "    Load the CIFAR-10 dataset from disk and perform preprocessing to prepare\n",
    "    it for the linear classifier. These are the same steps as we used for the\n",
    "    SVM, but condensed to a single function.  \n",
    "    \"\"\"\n",
    "    # Load the raw CIFAR-10 data\n",
    "    cifar10_dir = 'cs231n/datasets/cifar-10-batches-py'\n",
    "    \n",
    "    # Cleaning up variables to prevent loading data multiple times (which may cause memory issue)\n",
    "    try:\n",
    "       del X_train, y_train\n",
    "       del X_test, y_test\n",
    "       print('Clear previously loaded data.')\n",
    "    except:\n",
    "       pass\n",
    "\n",
    "    X_train, y_train, X_test, y_test = load_CIFAR10(cifar10_dir)\n",
    "    \n",
    "    # subsample the data\n",
    "    mask = list(range(num_training, num_training + num_validation))\n",
    "    X_val = X_train[mask]\n",
    "    y_val = y_train[mask]\n",
    "    mask = list(range(num_training))\n",
    "    X_train = X_train[mask]\n",
    "    y_train = y_train[mask]\n",
    "    mask = list(range(num_test))\n",
    "    X_test = X_test[mask]\n",
    "    y_test = y_test[mask]\n",
    "    mask = np.random.choice(num_training, num_dev, replace=False)\n",
    "    X_dev = X_train[mask]\n",
    "    y_dev = y_train[mask]\n",
    "    \n",
    "    # Preprocessing: reshape the image data into rows\n",
    "    X_train = np.reshape(X_train, (X_train.shape[0], -1))\n",
    "    X_val = np.reshape(X_val, (X_val.shape[0], -1))\n",
    "    X_test = np.reshape(X_test, (X_test.shape[0], -1))\n",
    "    X_dev = np.reshape(X_dev, (X_dev.shape[0], -1))\n",
    "    \n",
    "    # Normalize the data: subtract the mean image\n",
    "    mean_image = np.mean(X_train, axis = 0)\n",
    "    X_train -= mean_image\n",
    "    X_val -= mean_image\n",
    "    X_test -= mean_image\n",
    "    X_dev -= mean_image\n",
    "    \n",
    "    # add bias dimension and transform into columns\n",
    "    X_train = np.hstack([X_train, np.ones((X_train.shape[0], 1))])\n",
    "    X_val = np.hstack([X_val, np.ones((X_val.shape[0], 1))])\n",
    "    X_test = np.hstack([X_test, np.ones((X_test.shape[0], 1))])\n",
    "    X_dev = np.hstack([X_dev, np.ones((X_dev.shape[0], 1))])\n",
    "    \n",
    "    return X_train, y_train, X_val, y_val, X_test, y_test, X_dev, y_dev\n",
    "\n",
    "\n",
    "# Invoke the above function to get our data.\n",
    "X_train, y_train, X_val, y_val, X_test, y_test, X_dev, y_dev = get_CIFAR10_data()\n",
    "print('Train data shape: ', X_train.shape)\n",
    "print('Train labels shape: ', y_train.shape)\n",
    "print('Validation data shape: ', X_val.shape)\n",
    "print('Validation labels shape: ', y_val.shape)\n",
    "print('Test data shape: ', X_test.shape)\n",
    "print('Test labels shape: ', y_test.shape)\n",
    "print('dev data shape: ', X_dev.shape)\n",
    "print('dev labels shape: ', y_dev.shape)"
   ]
  },
  {
   "cell_type": "markdown",
   "metadata": {},
   "source": [
    "## Softmax Classifier\n",
    "\n",
    "Your code for this section will all be written inside **cs231n/classifiers/softmax.py**. \n"
   ]
  },
  {
   "cell_type": "code",
   "execution_count": 9,
   "metadata": {},
   "outputs": [
    {
     "name": "stdout",
     "output_type": "stream",
     "text": [
      "67\n",
      "0.8807970779778824\n",
      "0.12692801104297252\n"
     ]
    }
   ],
   "source": [
    "# 草稿\n",
    "a = np.array([4,6,2,65,3,67])\n",
    "max_idx = np.argmax(a)\n",
    "max_score = a[max_idx]\n",
    "print(max_score)\n",
    "softmax = np.exp(max_score)/np.sum(np.exp(a))\n",
    "print(softmax)\n",
    "print(-np.log(softmax))\n",
    "# softmax损失函数导数推导过程在笔记里"
   ]
  },
  {
   "cell_type": "code",
   "execution_count": 36,
   "metadata": {},
   "outputs": [
    {
     "name": "stdout",
     "output_type": "stream",
     "text": [
      "loss: 2.305956\n",
      "sanity check: 2.302585\n"
     ]
    }
   ],
   "source": [
    "# First implement the naive softmax loss function with nested loops.\n",
    "# Open the file cs231n/classifiers/softmax.py and implement the\n",
    "# softmax_loss_naive function.\n",
    "\n",
    "from cs231n.classifiers.softmax import softmax_loss_naive\n",
    "import time\n",
    "\n",
    "# Generate a random softmax weight matrix and use it to compute the loss.\n",
    "W = np.random.randn(3073, 10) * 0.0001\n",
    "loss, grad = softmax_loss_naive(W, X_dev, y_dev, 0.0)\n",
    "\n",
    "# As a rough sanity check, our loss should be something close to -log(0.1).\n",
    "print('loss: %f' % loss)\n",
    "print('sanity check: %f' % (-np.log(0.1)))"
   ]
  },
  {
   "cell_type": "markdown",
   "metadata": {
    "tags": [
     "pdf-inline"
    ]
   },
   "source": [
    "**Inline Question 1**\n",
    "\n",
    "Why do we expect our loss to be close to -log(0.1)? Explain briefly.**\n",
    "\n",
    "$\\color{blue}{\\textit Your Answer:}$ *因为刚开始W中的参数是随机的，所以分类器输出的类概率1/10，损失为大概为-log（1/10）* \n",
    "\n"
   ]
  },
  {
   "cell_type": "code",
   "execution_count": 40,
   "metadata": {},
   "outputs": [
    {
     "name": "stdout",
     "output_type": "stream",
     "text": [
      "numerical: 0.642499 analytic: 0.642499, relative error: 6.101952e-09\n",
      "numerical: 1.394801 analytic: 1.394800, relative error: 5.018129e-08\n",
      "numerical: -3.607251 analytic: -3.607251, relative error: 1.105786e-09\n",
      "numerical: 1.837641 analytic: 1.837641, relative error: 6.285309e-09\n",
      "numerical: 0.036969 analytic: 0.036969, relative error: 1.929126e-06\n",
      "numerical: -0.094869 analytic: -0.094869, relative error: 1.000747e-06\n",
      "numerical: 0.229499 analytic: 0.229499, relative error: 1.357089e-07\n",
      "numerical: -0.334937 analytic: -0.334937, relative error: 2.843013e-07\n",
      "numerical: 0.672698 analytic: 0.672698, relative error: 4.926607e-08\n",
      "numerical: -2.260468 analytic: -2.260469, relative error: 3.675204e-08\n",
      "numerical: -0.212283 analytic: -0.212283, relative error: 1.256676e-08\n",
      "numerical: 1.490550 analytic: 1.490549, relative error: 5.964530e-08\n",
      "numerical: 1.861589 analytic: 1.861589, relative error: 3.109582e-08\n",
      "numerical: 0.112583 analytic: 0.112583, relative error: 8.389214e-07\n",
      "numerical: 0.968917 analytic: 0.968917, relative error: 5.330459e-09\n",
      "numerical: -0.766096 analytic: -0.766096, relative error: 5.105216e-09\n",
      "numerical: -0.162916 analytic: -0.162916, relative error: 2.264017e-07\n",
      "numerical: 0.130057 analytic: 0.130057, relative error: 1.776102e-07\n",
      "numerical: -1.572458 analytic: -1.572458, relative error: 1.064811e-08\n",
      "numerical: 0.086030 analytic: 0.086030, relative error: 2.851262e-07\n"
     ]
    }
   ],
   "source": [
    "# Complete the implementation of softmax_loss_naive and implement a (naive)\n",
    "# version of the gradient that uses nested loops.\n",
    "loss, grad = softmax_loss_naive(W, X_dev, y_dev, 0.0)\n",
    "\n",
    "# As we did for the SVM, use numeric gradient checking as a debugging tool.\n",
    "# The numeric gradient should be close to the analytic gradient.\n",
    "from cs231n.gradient_check import grad_check_sparse\n",
    "f = lambda w: softmax_loss_naive(w, X_dev, y_dev, 0.0)[0]\n",
    "grad_numerical = grad_check_sparse(f, W, grad, 10)\n",
    "\n",
    "# similar to SVM case, do another gradient check with regularization\n",
    "loss, grad = softmax_loss_naive(W, X_dev, y_dev, 5e1)\n",
    "f = lambda w: softmax_loss_naive(w, X_dev, y_dev, 5e1)[0]\n",
    "grad_numerical = grad_check_sparse(f, W, grad, 10)"
   ]
  },
  {
   "cell_type": "code",
   "execution_count": 50,
   "metadata": {
    "scrolled": true
   },
   "outputs": [
    {
     "name": "stdout",
     "output_type": "stream",
     "text": [
      "[[97 26 72 81 19 95 53  6 17 16]\n",
      " [79 78 39 70 70 51 74 20 26 46]\n",
      " [62  1 74 44 17 46 30 16 49 84]\n",
      " [88 70 95 90 41 48 40 15 64 99]\n",
      " [ 3 46 49 92 65 12 74 90 50 35]\n",
      " [ 7 72 81 53 75  6 67 64 13 68]]\n",
      "[26 78  1 95 49 81]\n",
      "[1.51945878e+42 2.80235968e+34 3.02521466e+36 1.00715398e+43\n",
      " 1.02380318e+40 1.51002114e+35]\n",
      "[[1.33833472e+42 1.95729609e+11 1.85867175e+31 1.50609731e+35\n",
      "  1.78482301e+08 1.81123908e+41 1.04137594e+23 4.03428793e+02\n",
      "  2.41549528e+07 8.88611052e+06]\n",
      " [2.03828107e+34 7.49841700e+33 8.65934004e+16 2.51543867e+30\n",
      "  2.51543867e+30 1.40934908e+22 1.37338298e+32 4.85165195e+08\n",
      "  1.95729609e+11 9.49611942e+19]\n",
      " [8.43835667e+26 2.71828183e+00 1.37338298e+32 1.28516001e+19\n",
      "  2.41549528e+07 9.49611942e+19 1.06864746e+13 8.88611052e+06\n",
      "  1.90734657e+21 3.02507732e+36]\n",
      " [1.65163625e+38 2.51543867e+30 1.81123908e+41 1.22040329e+39\n",
      "  6.39843494e+17 7.01673591e+20 2.35385267e+17 3.26901737e+06\n",
      "  6.23514908e+27 9.88903032e+42]\n",
      " [2.00855369e+01 9.49611942e+19 1.90734657e+21 9.01762841e+39\n",
      "  1.69488924e+28 1.62754791e+05 1.37338298e+32 1.22040329e+39\n",
      "  5.18470553e+21 1.58601345e+15]\n",
      " [1.09663316e+03 1.85867175e+31 1.50609731e+35 1.04137594e+23\n",
      "  3.73324200e+32 4.03428793e+02 1.25236317e+29 6.23514908e+27\n",
      "  4.42413392e+05 3.40427605e+29]]\n",
      "[1.51945878e+42 2.80235968e+34 3.02521466e+36 1.00715398e+43\n",
      " 1.02380318e+40 1.51002114e+35]\n",
      "[[8.80796991e-01 1.28815347e-31 1.22324592e-11 9.91206432e-08\n",
      "  1.17464392e-34 1.19202910e-01 6.85359786e-20 2.65508219e-40\n",
      "  1.58970767e-35 5.84820770e-36]\n",
      " [7.27344558e-01 2.67575110e-01 3.09001735e-18 8.97614494e-05\n",
      "  8.97614494e-05 5.02915129e-13 4.90080908e-03 1.73127382e-26\n",
      "  6.98445708e-24 3.38861549e-15]\n",
      " [2.78934146e-10 8.98541800e-37 4.53978687e-05 4.24816139e-18\n",
      "  7.98454175e-30 3.13899028e-17 3.53246820e-24 2.93734876e-30\n",
      "  6.30483052e-16 9.99954602e-01]\n",
      " [1.63990441e-05 2.49757110e-13 1.79837356e-02 1.21173457e-04\n",
      "  6.35298581e-26 6.96689489e-23 2.33713287e-26 3.24579701e-37\n",
      "  6.19085980e-16 9.81878692e-01]\n",
      " [1.96185529e-39 9.27533687e-21 1.86300121e-19 8.80797066e-01\n",
      "  1.65548347e-12 1.58970781e-35 1.34145215e-08 1.19202920e-01\n",
      "  5.06416234e-19 1.54913901e-25]\n",
      " [7.26236956e-33 1.23089121e-04 9.97401475e-01 6.89643286e-13\n",
      "  2.47231108e-03 2.67167646e-33 8.29367971e-07 4.12917999e-08\n",
      "  2.92984899e-30 2.25445588e-06]]\n",
      "[1 2 3]\n"
     ]
    }
   ],
   "source": [
    "# 草稿\n",
    "a = [1,1,1,2,2,2]\n",
    "data = np.random.randint(1, 100, (6, 10))\n",
    "print(data)\n",
    "print(data[range(6), list(a)])\n",
    "print(np.sum(np.exp(data), axis=1))\n",
    "\n",
    "a = np.exp(data)\n",
    "print(a)\n",
    "b = np.sum(np.exp(data), axis=1)\n",
    "print(b)\n",
    "print(a / b.reshape(-1, 1))\n",
    "\n",
    "# numpy深拷贝\n",
    "a = np.array([1, 2, 3])\n",
    "b = a.copy()\n",
    "b[0] = 2\n",
    "print(a)"
   ]
  },
  {
   "cell_type": "code",
   "execution_count": 55,
   "metadata": {},
   "outputs": [
    {
     "name": "stdout",
     "output_type": "stream",
     "text": [
      "naive loss: 2.305956e+00 computed in 0.150453s\n",
      "vectorized loss: 2.305956e+00 computed in 0.004913s\n",
      "Loss difference: 0.000000\n",
      "Gradient difference: 0.000000\n"
     ]
    }
   ],
   "source": [
    "# Now that we have a naive implementation of the softmax loss function and its gradient,\n",
    "# implement a vectorized version in softmax_loss_vectorized.\n",
    "# The two versions should compute the same results, but the vectorized version should be\n",
    "# much faster.\n",
    "tic = time.time()\n",
    "loss_naive, grad_naive = softmax_loss_naive(W, X_dev, y_dev, 0.000005)\n",
    "toc = time.time()\n",
    "print('naive loss: %e computed in %fs' % (loss_naive, toc - tic))\n",
    "\n",
    "from cs231n.classifiers.softmax import softmax_loss_vectorized\n",
    "tic = time.time()\n",
    "loss_vectorized, grad_vectorized = softmax_loss_vectorized(W, X_dev, y_dev, 0.000005)\n",
    "toc = time.time()\n",
    "print('vectorized loss: %e computed in %fs' % (loss_vectorized, toc - tic))\n",
    "\n",
    "# As we did for the SVM, we use the Frobenius norm to compare the two versions\n",
    "# of the gradient.\n",
    "grad_difference = np.linalg.norm(grad_naive - grad_vectorized, ord='fro')\n",
    "print('Loss difference: %f' % np.abs(loss_naive - loss_vectorized))\n",
    "print('Gradient difference: %f' % grad_difference)"
   ]
  },
  {
   "cell_type": "code",
   "execution_count": 58,
   "metadata": {
    "tags": [
     "code"
    ]
   },
   "outputs": [
    {
     "name": "stdout",
     "output_type": "stream",
     "text": [
      "iteration 0 / 1000: loss 776.667878\n",
      "iteration 100 / 1000: loss 285.230795\n",
      "iteration 200 / 1000: loss 105.790906\n",
      "iteration 300 / 1000: loss 39.967340\n",
      "iteration 400 / 1000: loss 15.944088\n",
      "iteration 500 / 1000: loss 7.114343\n",
      "iteration 600 / 1000: loss 3.958644\n",
      "iteration 700 / 1000: loss 2.785201\n",
      "iteration 800 / 1000: loss 2.309189\n",
      "iteration 900 / 1000: loss 2.159225\n",
      "iteration 0 / 1000: loss 1525.829455\n",
      "iteration 100 / 1000: loss 205.458629\n",
      "iteration 200 / 1000: loss 29.289814\n",
      "iteration 300 / 1000: loss 5.761996\n",
      "iteration 400 / 1000: loss 2.639866\n",
      "iteration 500 / 1000: loss 2.201943\n",
      "iteration 600 / 1000: loss 2.197751\n",
      "iteration 700 / 1000: loss 2.184767\n",
      "iteration 800 / 1000: loss 2.167660\n",
      "iteration 900 / 1000: loss 2.105861\n",
      "iteration 0 / 1000: loss 778.075312\n",
      "iteration 100 / 1000: loss 6.991379\n",
      "iteration 200 / 1000: loss 2.104116\n",
      "iteration 300 / 1000: loss 2.150243\n",
      "iteration 400 / 1000: loss 2.044805\n",
      "iteration 500 / 1000: loss 2.068641\n",
      "iteration 600 / 1000: loss 2.134734\n",
      "iteration 700 / 1000: loss 2.087672\n",
      "iteration 800 / 1000: loss 2.068449\n",
      "iteration 900 / 1000: loss 2.069658\n",
      "iteration 0 / 1000: loss 1534.860814\n",
      "iteration 100 / 1000: loss 2.199222\n",
      "iteration 200 / 1000: loss 2.143573\n",
      "iteration 300 / 1000: loss 2.136039\n",
      "iteration 400 / 1000: loss 2.143937\n",
      "iteration 500 / 1000: loss 2.111310\n",
      "iteration 600 / 1000: loss 2.153059\n",
      "iteration 700 / 1000: loss 2.155619\n",
      "iteration 800 / 1000: loss 2.141397\n",
      "iteration 900 / 1000: loss 2.134353\n",
      "lr 1.000000e-07 reg 2.500000e+04 train accuracy: 0.328163 val accuracy: 0.344000\n",
      "lr 1.000000e-07 reg 5.000000e+04 train accuracy: 0.300510 val accuracy: 0.315000\n",
      "lr 5.000000e-07 reg 2.500000e+04 train accuracy: 0.327306 val accuracy: 0.351000\n",
      "lr 5.000000e-07 reg 5.000000e+04 train accuracy: 0.308286 val accuracy: 0.321000\n",
      "best validation accuracy achieved during cross-validation: 0.351000\n"
     ]
    }
   ],
   "source": [
    "# Use the validation set to tune hyperparameters (regularization strength and\n",
    "# learning rate). You should experiment with different ranges for the learning\n",
    "# rates and regularization strengths; if you are careful you should be able to\n",
    "# get a classification accuracy of over 0.35 on the validation set.\n",
    "from cs231n.classifiers import Softmax\n",
    "results = {}\n",
    "best_val = -1\n",
    "best_softmax = None\n",
    "learning_rates = [1e-7, 5e-7]\n",
    "regularization_strengths = [2.5e4, 5e4]\n",
    "\n",
    "################################################################################\n",
    "# TODO:                                                                        #\n",
    "# Use the validation set to set the learning rate and regularization strength. #\n",
    "# This should be identical to the validation that you did for the SVM; save    #\n",
    "# the best trained softmax classifer in best_softmax.                          #\n",
    "################################################################################\n",
    "# *****START OF YOUR CODE (DO NOT DELETE/MODIFY THIS LINE)*****\n",
    "for lr in learning_rates:\n",
    "    for re in regularization_strengths:\n",
    "        softmax = Softmax()\n",
    "        softmax.train(X_train, y_train, learning_rate=lr, reg=re, num_iters=1000, verbose=True)\n",
    "        y_train_pred = softmax.predict(X_train)\n",
    "        train_accuracy = np.mean(y_train == y_train_pred)\n",
    "        y_val_pred = softmax.predict(X_val)\n",
    "        val_accuracy = np.mean(y_val == y_val_pred)\n",
    "        results[(lr, re)] = [train_accuracy, val_accuracy]\n",
    "        if val_accuracy > best_val:\n",
    "            best_val = val_accuracy\n",
    "            best_softmax = softmax\n",
    "\n",
    "# *****END OF YOUR CODE (DO NOT DELETE/MODIFY THIS LINE)*****\n",
    "    \n",
    "# Print out results.\n",
    "for lr, reg in sorted(results):\n",
    "    train_accuracy, val_accuracy = results[(lr, reg)]\n",
    "    print('lr %e reg %e train accuracy: %f val accuracy: %f' % (\n",
    "                lr, reg, train_accuracy, val_accuracy))\n",
    "    \n",
    "print('best validation accuracy achieved during cross-validation: %f' % best_val)"
   ]
  },
  {
   "cell_type": "code",
   "execution_count": 64,
   "metadata": {},
   "outputs": [
    {
     "name": "stdout",
     "output_type": "stream",
     "text": [
      "softmax on raw pixels final test set accuracy: 0.342000\n"
     ]
    }
   ],
   "source": [
    "# evaluate on test set\n",
    "# Evaluate the best softmax on test set\n",
    "y_test_pred = best_softmax.predict(X_test)\n",
    "test_accuracy = np.mean(y_test == y_test_pred)\n",
    "print('softmax on raw pixels final test set accuracy: %f' % (test_accuracy, ))"
   ]
  },
  {
   "cell_type": "markdown",
   "metadata": {
    "tags": [
     "pdf-inline"
    ]
   },
   "source": [
    "**Inline Question 2** - *True or False*\n",
    "\n",
    "Suppose the overall training loss is defined as the sum of the per-datapoint loss over all training examples. It is possible to add a new datapoint to a training set that would leave the SVM loss unchanged, but this is not the case with the Softmax classifier loss.\n",
    "\n",
    "$\\color{blue}{\\textit Your Answer:}$True\n",
    "\n",
    "\n",
    "$\\color{blue}{\\textit Your Explanation:}$SVM分类器要求正确的分类比错误的分类的分数高出一个值，所以新加入一个数据可能的损失为0，但是softMax是以概率的形式计算损失，除非新加入的数据的正确的分类分数无限大，但是这种情况不太可能，所以肯定会有损失。\n",
    "\n",
    "\n"
   ]
  },
  {
   "cell_type": "code",
   "execution_count": 65,
   "metadata": {},
   "outputs": [
    {
     "data": {
      "image/png": "[encoded data removed]",
      "text/plain": [
       "<Figure size 720x576 with 10 Axes>"
      ]
     },
     "metadata": {},
     "output_type": "display_data"
    }
   ],
   "source": [
    "# Visualize the learned weights for each class\n",
    "w = best_softmax.W[:-1,:] # strip out the bias\n",
    "w = w.reshape(32, 32, 3, 10)\n",
    "\n",
    "w_min, w_max = np.min(w), np.max(w)\n",
    "\n",
    "classes = ['plane', 'car', 'bird', 'cat', 'deer', 'dog', 'frog', 'horse', 'ship', 'truck']\n",
    "for i in range(10):\n",
    "    plt.subplot(2, 5, i + 1)\n",
    "    \n",
    "    # Rescale the weights to be between 0 and 255\n",
    "    wimg = 255.0 * (w[:, :, :, i].squeeze() - w_min) / (w_max - w_min)\n",
    "    plt.imshow(wimg.astype('uint8'))\n",
    "    plt.axis('off')\n",
    "    plt.title(classes[i])"
   ]
  }
 ],
 "metadata": {
  "kernelspec": {
   "display_name": "Python [conda env:python36]",
   "language": "python",
   "name": "conda-env-python36-py"
  },
  "language_info": {
   "codemirror_mode": {
    "name": "ipython",
    "version": 3
   },
   "file_extension": ".py",
   "mimetype": "text/x-python",
   "name": "python",
   "nbconvert_exporter": "python",
   "pygments_lexer": "ipython3",
   "version": "3.6.3"
  }
 },
 "nbformat": 4,
 "nbformat_minor": 1
}
